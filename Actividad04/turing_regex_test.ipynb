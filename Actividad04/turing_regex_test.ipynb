{
 "cells": [
  {
   "cell_type": "markdown",
   "metadata": {},
   "source": [
    "# Constanst"
   ]
  },
  {
   "cell_type": "code",
   "execution_count": 180,
   "metadata": {},
   "outputs": [],
   "source": [
    "import re\n",
    "TRANSITION_REGEX = \"(f)\\s*=\\s*({\\(.*\\)->\\(.*\\)(,\\(.*\\)->\\(.*\\))*})\"\n",
    "SIGMA_REGEX = \"(sigma)\\s*=\\s*({[a-z0-9](,[a-z-0-9])*})\"\n",
    "FINAL_STATES_RE = \"(F)\\s*=\\s*({[a-z][0-9]+(,[a-z][0-9]+)*})\"\n",
    "INITIAL_STATE_RE = \"(q0)\\s*=\\s*([a-z][0-9])\"\n",
    "STATES_RE = \"(Q)\\s*=\\s*({[a-z][0-9](,[a-z][0-9])*})\"\n",
    "GAMMA_RE = \"(gamma)\\s*=\\s*({[a-zA-Z0-9](,[a-zA-Z0-9])*})\"\n",
    "BLANK_RE = \"(b)\\s*=\\s*([a-zA-Z])\"\n",
    "\n",
    "TEST_RE = \"(test)\\s*=\\s*(\\[.+(,.+)*\\])\"\n",
    "EXPECTED_RE = \"(expected)\\s*=\\s*(\\[.+(,.+)*\\])\"\n",
    "regex_list = [TRANSITION_REGEX, SIGMA_REGEX, FINAL_STATES_RE, INITIAL_STATE_RE , STATES_RE, GAMMA_RE, BLANK_RE, TEST_RE, EXPECTED_RE]"
   ]
  },
  {
   "cell_type": "markdown",
   "metadata": {},
   "source": [
    "# Functions"
   ]
  },
  {
   "cell_type": "code",
   "execution_count": 181,
   "metadata": {},
   "outputs": [
    {
     "data": {
      "text/plain": [
       "'\\nprint(turing_machine_tuples) #Imprime todo el diccionario\\nprint(turing_machine_tuples[\"f\"]) #Imprime el contenido de la llave f que esta en el diccionario\\n\\n# A partir de aqui esta el código para separar funcion de transicion y poder accedes a ella por medio de un diccionario\\n\\nf_string = turing_machine_tuples[\"f\"]\\nf_list_by_coma = transition_string.split(\",\")\\nprint(f_list_by_coma)\\ntransition_matrix = {token.split(\"->\")[0]: token.split(\"->\")[1] for token in f_list_by_coma} # Separa los token en un diccionario para accederlo\\nprint(transition_matrix) \\n\\n# Con el diccionario transition_matrix ustedes podran preguntar que hacer cuando estan en un estado y reciben un caracter de la cadena de prueba\\n\\ntest_string = \"00\"\\ncurrent_state = \"q0\"\\nfor character in test_string:\\n    new_key = \"({0} {1})\".format(current_state, character)\\n    print(new_key) # Imprime la llave creada para acceder al diccionario\\n    next_actions = transition_matrix[new_key] # Accede a los movimientos que se necesitan hacer en la cinta y en el estado actual\\n    print(next_actions)\\n    # Ya que tienen las demas acciones, tiene que ejecutar las acciones que indican, por ejemplo, pasar a un estado, escribir en la cinta y moverse a la derecha/izquierda\\n'"
      ]
     },
     "execution_count": 181,
     "metadata": {},
     "output_type": "execute_result"
    }
   ],
   "source": [
    "def load_config_file(filename, regex_list):\n",
    "    \"\"\"This function read the turing machine config file and return a dictionary with the tuple information in the form tuple_name:tuple_value\n",
    "    \n",
    "    Parameters\n",
    "    ----------\n",
    "        filename: filename or path to the turing machine config file\n",
    "        regex_list: a list with the regular expresion used to validate config file\n",
    "\n",
    "    Return\n",
    "    ------\n",
    "        turing_machine_tuples: a dicctionary with the associaion of tuple_name with tuple_value validated with regular expression define in regex_list\n",
    "    \"\"\"\n",
    "    with open(filename) as my_file:\n",
    "        content_file = my_file.read()\n",
    "\n",
    "    turing_machine_tuples = {}\n",
    "    for regexp in regex_list:\n",
    "        matcher = re.compile(regexp)\n",
    "        match = matcher.search(content_file)\n",
    "        tuple_name = match.groups()[0]\n",
    "        tuple_value = match.groups()[1]\n",
    "\n",
    "        if is_set(tuple_value):\n",
    "            sub_string = tuple_value[1:-1]\n",
    "            sub_string = sub_string.split(\",\")\n",
    "            tuple_value = set(sub_string)\n",
    "        elif is_list(tuple_value):\n",
    "            sub_string = tuple_value[1:-1]\n",
    "            tuple_value = sub_string.split(\",\")\n",
    "\n",
    "        turing_machine_tuples[tuple_name] = tuple_value \n",
    "    \n",
    "    return turing_machine_tuples\n",
    "\n",
    "def is_set(value):\n",
    "    \"\"\"Evaluate if value correspond to a set definition\n",
    "        \n",
    "        Parameters\n",
    "        ----------\n",
    "            value: the string to be evaluated\n",
    "\n",
    "        Return\n",
    "        ------\n",
    "            True if value corresponds to a set definition\n",
    "    \"\"\"\n",
    "    return True if re.match(\"{.*}\", value) else False\n",
    "\n",
    "def is_list(value):\n",
    "    \"\"\"Evaluate if value correspond to a list definition\n",
    "\n",
    "    Parameters\n",
    "    ----------\n",
    "        value: a string to be evaluated\n",
    "\n",
    "    Return\n",
    "    ------\n",
    "        True if value corresponds to a list definition\n",
    "    \"\"\"\n",
    "\n",
    "    return True if re.match(\"\\[.*\\]\", value) else False\n",
    "\n",
    "\n",
    "def validate_turing_machine_definition(automata_definition):\n",
    "    \"\"\"This function validate that the information on each element of the turing machine tuple are correct. This is, \n",
    "        q0 is an element of Q\n",
    "        F is a subset of Q\n",
    "        f is formed by elements of Q and sigma, accordingly.\n",
    "        sigma is a subset of gamma\n",
    "        b is an element of gamma\n",
    "        transition_function elements are in Q, gamma\n",
    "\n",
    "        Parameters:\n",
    "        ----------\n",
    "            automata_definition: contains a dictionary with each tuple and its corresponding value.\n",
    "\n",
    "        Returns:\n",
    "        --------\n",
    "            True if everything is correct\n",
    "\n",
    "        rises:\n",
    "        ------\n",
    "            exception when the conditions does not fit\n",
    "    \"\"\"\n",
    "    assert automata_definition[\"q0\"] in automata_definition[\"Q\"], \"q0 is not in Q!!!\"\n",
    "    assert automata_definition[\"F\"].issubset(automata_definition[\"Q\"]), \"F is not in Q!!!\"\n",
    "    assert len(automata_definition[\"test\"]) == len(automata_definition[\"expected\"]), \"The lists test and expected are from differente length\"\n",
    "\n",
    "    transition_function_set = automata_definition[\"f\"]\n",
    "    for item in transition_function_set:\n",
    "        match = re.match(\"\\((.*) (.*)\\)->((.*) (.*) (.*))\", item)\n",
    "        antecedent_state = match.groups()[0]\n",
    "        antecedent_alphabet = match.groups()[1]\n",
    "        consequent_state = match.groups()[2]\n",
    "        consequent_write = match.groups()[3]\n",
    "        consequent_move = match.groups()[4]\n",
    "        print(antecedent_state, antecedent_alphabet, consequent_state)\n",
    "        #assert antecedent_state in automata_definition[\"Q\"], \"{} is not in {}\".#format(antecedent_state, automata_definition[\"Q\"])\n",
    "        #assert antecedent_alphabet in automata_definition[\"sigma\"], \"{} is not #in {}\".format(antecedent_alphabet, automata_definition[\"sigma\"])\n",
    "        #assert consequent in automata_definition[\"Q\"], \"{} is not in {}\".format#(consequent, automata_definition[\"Q\"])\n",
    "    \n",
    "    #for string_test in automata_definition[\"test\"]:\n",
    "    #    for character in string_test:\n",
    "    #        assert character in automata_definition[\"sigma\"], \"The character '{}' of the string test '{}' contains element(s) not in sigma set {}\".format(character, string_test, automata_definition[\"sigma\"])\n",
    "    \n",
    "    return True\n",
    "\n",
    "\n",
    "\"\"\"\n",
    "print(turing_machine_tuples) #Imprime todo el diccionario\n",
    "print(turing_machine_tuples[\"f\"]) #Imprime el contenido de la llave f que esta en el diccionario\n",
    "\n",
    "# A partir de aqui esta el código para separar funcion de transicion y poder accedes a ella por medio de un diccionario\n",
    "\n",
    "f_string = turing_machine_tuples[\"f\"]\n",
    "f_list_by_coma = transition_string.split(\",\")\n",
    "print(f_list_by_coma)\n",
    "transition_matrix = {token.split(\"->\")[0]: token.split(\"->\")[1] for token in f_list_by_coma} # Separa los token en un diccionario para accederlo\n",
    "print(transition_matrix) \n",
    "\n",
    "# Con el diccionario transition_matrix ustedes podran preguntar que hacer cuando estan en un estado y reciben un caracter de la cadena de prueba\n",
    "\n",
    "test_string = \"00\"\n",
    "current_state = \"q0\"\n",
    "for character in test_string:\n",
    "    new_key = \"({0} {1})\".format(current_state, character)\n",
    "    print(new_key) # Imprime la llave creada para acceder al diccionario\n",
    "    next_actions = transition_matrix[new_key] # Accede a los movimientos que se necesitan hacer en la cinta y en el estado actual\n",
    "    print(next_actions)\n",
    "    # Ya que tienen las demas acciones, tiene que ejecutar las acciones que indican, por ejemplo, pasar a un estado, escribir en la cinta y moverse a la derecha/izquierda\n",
    "\"\"\""
   ]
  },
  {
   "cell_type": "markdown",
   "metadata": {},
   "source": [
    "# Main function"
   ]
  },
  {
   "cell_type": "code",
   "execution_count": 182,
   "metadata": {},
   "outputs": [],
   "source": [
    "def main():\n",
    "    filename = \"turing_correct.def\"\n",
    "    turing_machine_tuples = load_config_file(filename, regex_list)\n",
    "    validate_turing_machine_definition(turing_machine_tuples)"
   ]
  },
  {
   "cell_type": "markdown",
   "metadata": {},
   "source": [
    "# Access point"
   ]
  },
  {
   "cell_type": "code",
   "execution_count": 183,
   "metadata": {},
   "outputs": [
    {
     "name": "stdout",
     "output_type": "stream",
     "text": [
      "q0 Y (q3 Y R)\n",
      "q0 0 (q1 X R)\n",
      "q3 b (q4 b R)\n",
      "q1 1 (q2 Y L)\n",
      "q2 X (q0 X R)\n",
      "q2 0 (q2 0 L)\n",
      "q2 Y (q2 Y L)\n",
      "q1 Y (q1 Y R)\n",
      "q3 Y (q3 Y R)\n",
      "q1 0 (q1 0 R)\n"
     ]
    }
   ],
   "source": [
    "if __name__ == \"__main__\":\n",
    "    main()"
   ]
  }
 ],
 "metadata": {
  "kernelspec": {
   "display_name": "imageProcessing",
   "language": "python",
   "name": "imageprocessing"
  },
  "language_info": {
   "codemirror_mode": {
    "name": "ipython",
    "version": 3
   },
   "file_extension": ".py",
   "mimetype": "text/x-python",
   "name": "python",
   "nbconvert_exporter": "python",
   "pygments_lexer": "ipython3",
   "version": "3.11.0"
  }
 },
 "nbformat": 4,
 "nbformat_minor": 2
}
