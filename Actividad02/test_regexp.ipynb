{
 "cells": [
  {
   "cell_type": "markdown",
   "metadata": {},
   "source": [
    "# Actividad 02"
   ]
  },
  {
   "cell_type": "markdown",
   "metadata": {},
   "source": [
    "## Importar modulos"
   ]
  },
  {
   "cell_type": "code",
   "execution_count": 71,
   "metadata": {},
   "outputs": [],
   "source": [
    "import re"
   ]
  },
  {
   "cell_type": "markdown",
   "metadata": {},
   "source": [
    "## Definición de expresiones regulares"
   ]
  },
  {
   "cell_type": "code",
   "execution_count": 72,
   "metadata": {},
   "outputs": [],
   "source": [
    "name_regexp = \"^[a-zA-Záéíóúñ ]{3,}$\"\n",
    "age_regexp = \"^100$|^1[89]$|^[2-9][0-9]$\"\n",
    "email_regexp = \"^[a-z1-9._]+@(gmail|hotmail|yahoo|outlook)(\\.com|\\.mx|\\.edu)$\"\n",
    "dia_mes_nacimiento_regexp = \"^(3[01]|[0-2][0-9])/[01][1-9]$\"\n",
    "\n",
    "name_text = \"Israel Román Godínez\"\n",
    "age_text = \"20\"\n",
    "email_text = \"israel.roman@hotmail.edu\"\n",
    "dia_mes_text = \"31/01\""
   ]
  },
  {
   "cell_type": "markdown",
   "metadata": {},
   "source": [
    "## Prueba de expresiones regulares"
   ]
  },
  {
   "cell_type": "code",
   "execution_count": 73,
   "metadata": {},
   "outputs": [],
   "source": [
    "matcher = re.compile(name_regexp)\n",
    "match = matcher.match(name_text)"
   ]
  },
  {
   "cell_type": "markdown",
   "metadata": {},
   "source": [
    "## Validación de varias expresiones regulares"
   ]
  },
  {
   "cell_type": "code",
   "execution_count": 74,
   "metadata": {},
   "outputs": [
    {
     "name": "stdout",
     "output_type": "stream",
     "text": [
      "<re.Match object; span=(0, 20), match='Israel Román Godínez'>\n",
      "<re.Match object; span=(0, 2), match='20'>\n",
      "<re.Match object; span=(0, 24), match='israel.roman@hotmail.edu'>\n",
      "<re.Match object; span=(0, 5), match='31/01'>\n"
     ]
    }
   ],
   "source": [
    "regexp_list = [name_regexp, age_regexp, email_regexp, dia_mes_nacimiento_regexp]\n",
    "text_list = [name_text, age_text, email_text, dia_mes_text]\n",
    "\n",
    "associations = zip(text_list, regexp_list)\n",
    "#print(list(associations))\n",
    "\n",
    "for text, regexp in associations:\n",
    "    matcher = re.compile(regexp)\n",
    "    match = matcher.match(text)\n",
    "    print(match)"
   ]
  }
 ],
 "metadata": {
  "kernelspec": {
   "display_name": "base",
   "language": "python",
   "name": "python3"
  },
  "language_info": {
   "codemirror_mode": {
    "name": "ipython",
    "version": 3
   },
   "file_extension": ".py",
   "mimetype": "text/x-python",
   "name": "python",
   "nbconvert_exporter": "python",
   "pygments_lexer": "ipython3",
   "version": "3.7.4"
  },
  "orig_nbformat": 4
 },
 "nbformat": 4,
 "nbformat_minor": 2
}
